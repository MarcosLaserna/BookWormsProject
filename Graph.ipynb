{
 "cells": [
  {
   "metadata": {
    "ExecuteTime": {
     "end_time": "2024-12-02T19:58:49.379114Z",
     "start_time": "2024-12-02T19:58:38.431904Z"
    }
   },
   "cell_type": "code",
   "source": [
    "import pandas as pd\n",
    "import networkx as nx\n",
    "\n",
    "# Load books and user ratings datasets\n",
    "books = pd.read_csv('datasets/book/book1-100k.csv').head(10000)\n",
    "\n",
    "# Choose columns used for the algorithm\n",
    "books = books[['Id', 'Name', 'Authors', 'Rating', 'pagesNumber']]\n",
    "\n",
    "# Normalize book names\n",
    "books['Name'] = books['Name'].str.strip().str.lower()\n",
    "\n",
    "# Function to get liked books from user input\n",
    "def get_liked_books():\n",
    "    liked_books = []\n",
    "    print(\"Enter the names of the books you like (type 'done' when finished):\")\n",
    "    while True:\n",
    "        book_name = input(\"Book name: \").strip().lower()\n",
    "        if book_name == 'done':\n",
    "            break\n",
    "        liked_books.append(book_name)\n",
    "    return liked_books\n",
    "\n",
    "liked_books = get_liked_books()\n",
    "\n",
    "# Filter the books that match the liked books\n",
    "liked_books_df = books[books['Name'].isin(liked_books)]\n",
    "\n",
    "# Create graph\n",
    "G = nx.Graph()\n",
    "\n",
    "# Add book nodes\n",
    "for _, row in books.iterrows():\n",
    "    G.add_node(row['Id'], type='book', name=row['Name'], \n",
    "               authors=row['Authors'], rating=row['Rating'], pages=row['pagesNumber'])\n",
    "\n",
    "\n",
    "# Add user node and edges based on the liked books\n",
    "user_node = \"user_1\"  # You can change the user identifier as needed\n",
    "G.add_node(user_node, type='user')\n",
    "\n",
    "# Add an edge between the user and the liked books\n",
    "for _, row in liked_books_df.iterrows():\n",
    "    book_node = row['Id']\n",
    "    G.add_edge(user_node, book_node)\n",
    "\n",
    "# Calculate the mean pages of books liked by the user\n",
    "total_pages = 0\n",
    "books_count = 0\n",
    "authors_set = set()\n",
    "\n",
    "# Sum the pages of the books the user likes\n",
    "for _, row in liked_books_df.iterrows():\n",
    "    total_pages += row['pagesNumber']\n",
    "    books_count += 1\n",
    "    authors_set.update(row['Authors'].split(\",\"))\n",
    "\n",
    "# Save mean pages and authors for the user\n",
    "if books_count > 0:\n",
    "    mean_pages = total_pages / books_count\n",
    "else:\n",
    "    mean_pages = 0\n",
    "\n",
    "# Display the results\n",
    "print(f\"\\nUser's mean pages of liked books: {mean_pages}\")\n",
    "print(f\"User's authors of liked books: {', '.join(authors_set)}\")\n"
   ],
   "id": "a359d49dfaf86821",
   "outputs": [],
   "execution_count": 13
  },
  {
   "metadata": {
    "ExecuteTime": {
     "end_time": "2024-12-02T20:03:09.912230Z",
     "start_time": "2024-12-02T20:03:09.880970Z"
    }
   },
   "cell_type": "code",
   "source": [
    "def recommend_books_for_user():\n",
    "    \n",
    "    # Get the mean pages for the user\n",
    "    user_mean = mean_pages\n",
    "    user_author_set = authors.set\n",
    "    \n",
    "    # Calculate scores for each book\n",
    "    book_scores = {}\n",
    "    for book_node in G.nodes:\n",
    "        if G.nodes[book_node].get('type') == 'book':\n",
    "            # Get the global rating and pages of the book\n",
    "            book_rating = G.nodes[book_node]['rating']\n",
    "            book_pages = G.nodes[book_node]['pages'] \n",
    "            \n",
    "            if abs(book_pages - user_mean) < 150:\n",
    "                page_similarity = 1\n",
    "            elif abs(book_pages - user_mean) < 300 and abs(book_pages - user_mean) > 150:\n",
    "                page_similarity = 0.5\n",
    "            else:\n",
    "                page_similarity = 0\n",
    "            \n",
    "            score = book_rating + page_similarity\n",
    "            \n",
    "            # Add bonus for authors match\n",
    "            author_bonus = 0\n",
    "            book_authors = set(G.nodes[book_node]['authors'].split(\",\"))\n",
    "            if book_authors & user_author_set:  \n",
    "                author_bonus = 1\n",
    "            \n",
    "            score += author_bonus  \n",
    "            \n",
    "            book_scores[book_node] = score\n",
    "    \n",
    "    # Sort books by score\n",
    "    recommended_books = sorted(book_scores.items(), key=lambda x: x[1], reverse=True)\n",
    "    \n",
    "    # Get the top N recommended books\n",
    "    top_recommended_books = [book[0] for book in recommended_books[:5]]\n",
    "    \n",
    "    return top_recommended_books\n"
   ],
   "id": "d0734e53e5170f2e",
   "outputs": [],
   "execution_count": 26
  },
  {
   "metadata": {
    "ExecuteTime": {
     "end_time": "2024-12-02T20:03:13.142954Z",
     "start_time": "2024-12-02T20:03:12.053855Z"
    }
   },
   "cell_type": "code",
   "source": [
    "def display_recommendations():\n",
    "    print(f\"\\nRecommended Books for User\\n\")\n",
    "    \n",
    "    for idx, book in enumerate(recommended_books, 1):\n",
    "        book_name = G.nodes[book]['name']\n",
    "        book_authors = G.nodes[book]['authors']\n",
    "        print(f\"{idx}. {book_name}\")\n",
    "        print(f\"   Authors: {book_authors}\")\n",
    "        print(\"=\" * 50)\n",
    "\n",
    "display_recommendations()\n"
   ],
   "id": "f481d518696f1e88",
   "outputs": [
    {
     "name": "stdout",
     "output_type": "stream",
     "text": [
      "\n",
      "Recommended Books for User 1:\n",
      "\n",
      "1. bullets, badges, and bullshit\n",
      "   Authors: Phil T. O'Brien\n",
      "==================================================\n",
      "2. the real estate investor's tax guide\n",
      "   Authors: Vernon Hoven\n",
      "==================================================\n",
      "3. singers, heroes, and gods in the odyssey\n",
      "   Authors: Charles Segal\n",
      "==================================================\n",
      "4. greek literature in the classical period: the prose of historiography and oratory: greek literature\n",
      "   Authors: Gregory Nagy\n",
      "==================================================\n",
      "5. greek literature in the roman period and in late antiquity: greek literature\n",
      "   Authors: Gregory Nagy\n",
      "==================================================\n"
     ]
    }
   ],
   "execution_count": 27
  }
 ],
 "metadata": {
  "kernelspec": {
   "display_name": "Python 3",
   "language": "python",
   "name": "python3"
  },
  "language_info": {
   "codemirror_mode": {
    "name": "ipython",
    "version": 2
   },
   "file_extension": ".py",
   "mimetype": "text/x-python",
   "name": "python",
   "nbconvert_exporter": "python",
   "pygments_lexer": "ipython2",
   "version": "2.7.6"
  }
 },
 "nbformat": 4,
 "nbformat_minor": 5
}
